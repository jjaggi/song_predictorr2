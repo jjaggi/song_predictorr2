{
 "cells": [
  {
   "cell_type": "markdown",
   "metadata": {},
   "source": [
    "# Data Acquisition & Cleaning\n",
    "Author: Stephen Kaplan, 7/30/2020\n",
    "\n",
    "The purpose of this notebook is to output a single dataframe with which to build a linear regression model. This notebook fulfills that goal for 2 similar datasets that contain very similar features, but different targets. I ended up slightly pivoting what I was trying to predict while working on this project, which is justified at the end of `EDA & Modeling Workbook (Project V1).ipynb`. A brief description of the 2 questions I attempted to answer:\n",
    "\n",
    "- **Project V1:**: Predicting [Pitchfork](https://pitchfork.com/) album ratings using Spotify's [Audio Features](https://developer.spotify.com/documentation/web-api/reference/tracks/get-audio-features/) dataset. The Spotify dataset is provided for each track (song), so this involved attempting to aggregate the data into \"album features\". The Pitchfork data is acquired using a _web scraper_ and the audio features data come from the Spotify API.\n",
    "- **Project V2:**: Predicting [Spotify](https://www.spotify.com) song \"popularity\" using Spotify's [Audio Features](https://developer.spotify.com/documentation/web-api/reference/tracks/get-audio-features/) dataset. Both features and target are available via Spotify's API.\n",
    "\n",
    "_Any reference to \"V1\" or \"V2\" corresponds to these 2 modeling attempts._\n",
    "\n",
    "### Table of Contents\n",
    "\n",
    "I. [Data Acquisition](#data-acquisition)\n",
    "* [Scraping Pitchfork Album Ratings (V1 Target)](#scraping-pitchfork)\n",
    "* [Track Audio Features from Spotify API (V1 & V2 Features)](#spotify-audio-features)\n",
    "* [Track Popularity from Spotify API (V2 Target)](#spotify-popularity)\n",
    "    \n",
    "II. [Data Cleaning](#data-cleaning)\n",
    "* [Cleaning Pitchfork Album Ratings Data](#clean-pitchfork)\n",
    "* [Cleaning Spotify Track Audio Features Data](#cleaning-spotify-audio-features)\n",
    "* [Cleaning Spotify Track Popularity Data](#cleaning-spotify-popularity)\n",
    "    \n",
    "III. [Final Dataset Preparation](#final-data-prep)\n",
    "* [Dataset V1 (for predicting Pitchfork Album Ratings)](#dataset1-prep)\n",
    "    - [Aggregating Track-Level Audio Features to Album-Level Features](#album-features)\n",
    "    - [Merge Album-Level Features with Pitchfork Album Rating Targets](#combine-v1)\n",
    "* [Dataset V2 (for predicting Spotify Track Popularity)](#dataset2-prep)\n",
    "\n",
    "IV. [Post-Analysis Data Additions: Popular Hip-Hop](#more-hiphop)\n",
    "\n",
    "---"
   ]
  },
  {
   "cell_type": "code",
   "execution_count": 1,
   "metadata": {},
   "outputs": [],
   "source": [
    "import os\n",
    "import sys\n",
    "import pandas as pd\n",
    "from selenium import webdriver\n",
    "import spotipy\n",
    "from spotipy import oauth2, util\n",
    "\n",
    "# add parent folder to path to be able to import utility functions\n",
    "sys.path.append('..')\n",
    "from utilities.data_acquisition_utilities import get_pitchfork_album_ratings, get_spotify_track_audio_features, \\\n",
    "                                                    get_spotify_track_popularity_and_artist_followers, \\\n",
    "                                                    generate_spotify_album_features"
   ]
  },
  {
   "cell_type": "markdown",
   "metadata": {},
   "source": [
    "In order to run the Spotify API portion of the code, you need to [create a developer account](https://developer.spotify.com/), and create an \"app\" to generate a `CLIENT_ID` and `CLIENT_SECRET`. (This is technically optional but gives you a higher API rate limit.) In my case, I store and load them from a local file.\n",
    "\n",
    "Retrieve client credentials and initialize a `Spotipy` object to make requests."
   ]
  },
  {
   "cell_type": "code",
   "execution_count": 2,
   "metadata": {},
   "outputs": [],
   "source": [
    "from utilities.spotify_creds import CLIENT_ID, CLIENT_SECRET\n",
    "client_credentials_manager = oauth2.SpotifyClientCredentials(CLIENT_ID, CLIENT_SECRET)\n",
    "sp = spotipy.Spotify(client_credentials_manager=client_credentials_manager)"
   ]
  },
  {
   "cell_type": "markdown",
   "metadata": {},
   "source": [
    "<h2><a id='data-acquisition'>I. Data Acquisition</a></h2>\n",
    "<h3><a id='scraping-pitchfork'>Scraping Pitchfork Album Ratings (V1 Target)</a></h3>\n",
    "\n",
    "Pitchfork is a popular music blog that gives ratings on a scale of 0-10. This is the target for my first modeling attempt (V1).\n",
    "\n",
    "Pitchfork allows for the following genre filters on their website. The web-scraper will pull data from all of the genres, and potentially use the genre column as a discrete categorical feature.\n",
    "![Pitchfork Genres](images/pitchfork_genre_window.png)"
   ]
  },
  {
   "cell_type": "code",
   "execution_count": null,
   "metadata": {},
   "outputs": [],
   "source": [
    "genres = ['Electronic', 'Folk/Country', 'Jazz', 'Pop/R&B', 'Rock', 'Experimental', 'Global', 'Metal', 'Rap/Hip-Hop']"
   ]
  },
  {
   "cell_type": "markdown",
   "metadata": {},
   "source": [
    "Scrape Pitchfork website for album ratings, and genres, and store in dataframe."
   ]
  },
  {
   "cell_type": "code",
   "execution_count": null,
   "metadata": {},
   "outputs": [],
   "source": [
    "df_pitchfork_album_ratings = get_pitchfork_album_ratings(\n",
    "    driver=webdriver.Chrome('/Applications/chromedriver'), \n",
    "    genres=genres, \n",
    "    num_albums_per_genre=100\n",
    ")"
   ]
  },
  {
   "cell_type": "markdown",
   "metadata": {},
   "source": [
    "Check that data pulled is complete."
   ]
  },
  {
   "cell_type": "code",
   "execution_count": null,
   "metadata": {},
   "outputs": [],
   "source": [
    "df_pitchfork_album_ratings.head()"
   ]
  },
  {
   "cell_type": "code",
   "execution_count": null,
   "metadata": {},
   "outputs": [],
   "source": [
    "df_pitchfork_album_ratings.info()"
   ]
  },
  {
   "cell_type": "code",
   "execution_count": null,
   "metadata": {},
   "outputs": [],
   "source": [
    "df_pitchfork_album_ratings.groupby('Genre').nunique()"
   ]
  },
  {
   "cell_type": "markdown",
   "metadata": {},
   "source": [
    "Save Pitchfork album rating data to pickle file. "
   ]
  },
  {
   "cell_type": "code",
   "execution_count": null,
   "metadata": {},
   "outputs": [],
   "source": [
    "if not os.path.isdir('../data'):\n",
    "    os.mkdir('../data')\n",
    "df_pitchfork_album_ratings.to_pickle('../data/pitchfork_album_ratings.pkl')"
   ]
  },
  {
   "cell_type": "markdown",
   "metadata": {},
   "source": [
    "<h3><a id='spotify-audio-features'>Track Audio Features from Spotify API (V1 & V2 Features)</a></h3>\n",
    "\n",
    "Spotify [audio features](https://developer.spotify.com/documentation/web-api/reference/tracks/get-audio-features/) are generated for every song on their platform using a proprietary algorithm, and describe different perceptible qualities about a song.\n",
    "\n",
    "Query Spotify API for [\"audio features\"](https://developer.spotify.com/documentation/web-api/reference/tracks/get-audio-features/) data for each track in each rated album. List of album names and corresponding artist names can be extracted from the scraped Pitchfork album data."
   ]
  },
  {
   "cell_type": "code",
   "execution_count": null,
   "metadata": {},
   "outputs": [],
   "source": [
    "df_pitchfork_album_ratings = pd.read_pickle('../data/pitchfork_album_ratings.pkl')"
   ]
  },
  {
   "cell_type": "code",
   "execution_count": null,
   "metadata": {
    "scrolled": false
   },
   "outputs": [],
   "source": [
    "df_spotify_track_audio_features = get_spotify_track_audio_features(\n",
    "    spotify_api_client=sp,\n",
    "    album_names=df_pitchfork_album_ratings['Album Title'].tolist(), \n",
    "    artist_names=df_pitchfork_album_ratings['Artist'].tolist()\n",
    ")"
   ]
  },
  {
   "cell_type": "markdown",
   "metadata": {},
   "source": [
    "Do some spot checking on the dataset."
   ]
  },
  {
   "cell_type": "code",
   "execution_count": null,
   "metadata": {},
   "outputs": [],
   "source": [
    "df_spotify_track_audio_features.head()"
   ]
  },
  {
   "cell_type": "code",
   "execution_count": null,
   "metadata": {},
   "outputs": [],
   "source": [
    "len(df_spotify_track_audio_features['Album Title'].unique())"
   ]
  },
  {
   "cell_type": "markdown",
   "metadata": {},
   "source": [
    "Still a sufficiently large dataset. Save Spotify audio features data to pickle."
   ]
  },
  {
   "cell_type": "code",
   "execution_count": null,
   "metadata": {},
   "outputs": [],
   "source": [
    "df_spotify_track_audio_features.to_pickle('../data/spotify_track_audio_features.pkl')"
   ]
  },
  {
   "cell_type": "markdown",
   "metadata": {},
   "source": [
    "<h3><a id='spotify-popularity'>Track Popularity from Spotify API (V2 Target)</a></h3>\n",
    "\n",
    "Spotify provides track \"popularity\", a rating on a scale of 0 to 100, via their API. This is the target for my second modeling attempt (V2).\n",
    "\n",
    "Load the track audio features pulled in the previous section. The `Track URI` column will be used to pull popularity ratings for each track. Additionally, I'll pull the track's artist's number of followers to use as an extra feature."
   ]
  },
  {
   "cell_type": "code",
   "execution_count": null,
   "metadata": {},
   "outputs": [],
   "source": [
    "df_spotify_track_audio_features = pd.read_pickle('../data/spotify_track_audio_features.pkl')"
   ]
  },
  {
   "cell_type": "markdown",
   "metadata": {},
   "source": [
    "Get a list of track popularity ratings for each track in the audio features data."
   ]
  },
  {
   "cell_type": "code",
   "execution_count": null,
   "metadata": {},
   "outputs": [],
   "source": [
    "track_uris = df_spotify_track_audio_features['Track URI']\n",
    "df_spotify_track_popularity = get_spotify_track_popularity_and_artist_followers(sp, track_uris)\n",
    "df_spotify_track_popularity.head()"
   ]
  },
  {
   "cell_type": "markdown",
   "metadata": {},
   "source": [
    "Save data to pickle."
   ]
  },
  {
   "cell_type": "code",
   "execution_count": null,
   "metadata": {},
   "outputs": [],
   "source": [
    "df_spotify_track_popularity.to_pickle('../data/spotify_track_popularity_data.pkl')"
   ]
  },
  {
   "cell_type": "markdown",
   "metadata": {},
   "source": [
    "<h2><a id='data-cleaning'>II. Data Cleaning</a></h2>\n",
    "<h3><a id='clean-pitchfork'>Cleaning Pitchfork Album Ratings Data</a></h3>\n",
    "\n",
    "Load data."
   ]
  },
  {
   "cell_type": "code",
   "execution_count": null,
   "metadata": {},
   "outputs": [],
   "source": [
    "df_pitchfork_album_ratings = pd.read_pickle('../data/pitchfork_album_ratings.pkl')\n",
    "df_pitchfork_album_ratings.head()"
   ]
  },
  {
   "cell_type": "code",
   "execution_count": null,
   "metadata": {},
   "outputs": [],
   "source": [
    "df_pitchfork_album_ratings.info()"
   ]
  },
  {
   "cell_type": "markdown",
   "metadata": {},
   "source": [
    "No null values. Check out some basic statistics."
   ]
  },
  {
   "cell_type": "code",
   "execution_count": null,
   "metadata": {},
   "outputs": [],
   "source": [
    "df_pitchfork_album_ratings.describe()"
   ]
  },
  {
   "cell_type": "markdown",
   "metadata": {},
   "source": [
    "These seem pretty reasonable based on Pitchfork's 0-10 album rating system, and the fact that they have been known \n",
    "to give 10's. However, since this is pretty rare, it's worth looking at albums that have perfect scores."
   ]
  },
  {
   "cell_type": "code",
   "execution_count": null,
   "metadata": {},
   "outputs": [],
   "source": [
    "df_pitchfork_album_ratings[df_pitchfork_album_ratings['Rating'] == 10]"
   ]
  },
  {
   "cell_type": "markdown",
   "metadata": {},
   "source": [
    "Doing some spot checking, this all seems okay. Since no adjustments have to be made to this dataset, the \"cleaned\" version is simply the original raw dataset."
   ]
  },
  {
   "cell_type": "markdown",
   "metadata": {},
   "source": [
    "<h3><a id='cleaning-spotify-audio-features'>Cleaning Spotify Track Audio Features Data</a></h3>\n",
    "\n",
    "Load data."
   ]
  },
  {
   "cell_type": "code",
   "execution_count": null,
   "metadata": {},
   "outputs": [],
   "source": [
    "df_spotify_track_audio_features = pd.read_pickle('../data/spotify_track_audio_features.pkl')\n",
    "df_spotify_track_audio_features.head()"
   ]
  },
  {
   "cell_type": "code",
   "execution_count": null,
   "metadata": {},
   "outputs": [],
   "source": [
    "df_spotify_track_audio_features.info()"
   ]
  },
  {
   "cell_type": "markdown",
   "metadata": {},
   "source": [
    "No null values. Check out some basic statistics."
   ]
  },
  {
   "cell_type": "code",
   "execution_count": null,
   "metadata": {},
   "outputs": [],
   "source": [
    "df_spotify_track_audio_features.describe()"
   ]
  },
  {
   "cell_type": "markdown",
   "metadata": {},
   "source": [
    "**A few things stand out to me based on minimums/maximums, etc.** \n",
    "\n",
    "First, a tempo of 0 beats per minute seems kind of unlikely, but might correspond to ambient music. I'd like to confirm that."
   ]
  },
  {
   "cell_type": "code",
   "execution_count": null,
   "metadata": {},
   "outputs": [],
   "source": [
    "df_spotify_track_audio_features[df_spotify_track_audio_features['Tempo'] == 0]"
   ]
  },
  {
   "cell_type": "markdown",
   "metadata": {},
   "source": [
    "Listening through all of the songs that have a tempo of 0, they all are definitely ambient music. Taking a look at the lower end of the distribution for tempo just in case there are any mischaracterized songs."
   ]
  },
  {
   "cell_type": "code",
   "execution_count": null,
   "metadata": {},
   "outputs": [],
   "source": [
    "df_spotify_track_audio_features['Tempo'].hist(bins=20)"
   ]
  },
  {
   "cell_type": "markdown",
   "metadata": {},
   "source": [
    "This is a very reasonable distribution of Tempos. Also good to see that this feature is approximately \n",
    "normally distributed (for modeling purposes later). Just as a final check, I'll listen to the highest BPM tracks to \n",
    "make sure they are fast songs."
   ]
  },
  {
   "cell_type": "code",
   "execution_count": null,
   "metadata": {},
   "outputs": [],
   "source": [
    "df_spotify_track_audio_features[df_spotify_track_audio_features['Tempo'] > 200]"
   ]
  },
  {
   "cell_type": "markdown",
   "metadata": {},
   "source": [
    "Listening through these songs, a lot of them have a ~100 BPM \"feel\" to them, which might have been analyzed by Spotify as a ~200 BPM song. Uncertain the best way to handle this column since 100 and 200 might or might not mean the same thing (for instance).  \n",
    "\n",
    "Another questionable value was `0` for Time Signature. Inspecting rows that fit this criteria."
   ]
  },
  {
   "cell_type": "code",
   "execution_count": null,
   "metadata": {},
   "outputs": [],
   "source": [
    "df_spotify_track_audio_features[df_spotify_track_audio_features['Time Signature'] == 0]"
   ]
  },
  {
   "cell_type": "markdown",
   "metadata": {},
   "source": [
    "All of these are ambient songs. Time signature of 0 is fine in this case. Since most popular music has a  `4` time signature, I'll to take a look at the distribution of this feature before deciding how to use it."
   ]
  },
  {
   "cell_type": "code",
   "execution_count": null,
   "metadata": {},
   "outputs": [],
   "source": [
    "df_spotify_track_audio_features['Time Signature'].hist(bins=20)"
   ]
  },
  {
   "cell_type": "markdown",
   "metadata": {},
   "source": [
    "The maximum value for `Loudness` is `0.822`. This is larger than `0` which is an outlier according to \n",
    "Spotify's documentation. Investigating this issue here."
   ]
  },
  {
   "cell_type": "code",
   "execution_count": null,
   "metadata": {},
   "outputs": [],
   "source": [
    "df_spotify_track_audio_features[df_spotify_track_audio_features['Loudness'] > 0]"
   ]
  },
  {
   "cell_type": "markdown",
   "metadata": {},
   "source": [
    "One value about 0 in the entire dataset shouldn't be a problem.\n",
    "\n",
    "Checking for duplicate track URIs."
   ]
  },
  {
   "cell_type": "code",
   "execution_count": null,
   "metadata": {},
   "outputs": [],
   "source": [
    "df_spotify_track_audio_features['Track URI'].duplicated().any()"
   ]
  },
  {
   "cell_type": "markdown",
   "metadata": {},
   "source": [
    "Drop Duplicates"
   ]
  },
  {
   "cell_type": "code",
   "execution_count": null,
   "metadata": {},
   "outputs": [],
   "source": [
    "df_spotify_track_audio_features.drop_duplicates(inplace=True)"
   ]
  },
  {
   "cell_type": "code",
   "execution_count": null,
   "metadata": {},
   "outputs": [],
   "source": [
    "df_spotify_track_audio_features.shape"
   ]
  },
  {
   "cell_type": "markdown",
   "metadata": {},
   "source": [
    "Another potential issue is that there are multiple versions of albums on Spotify. For instance, the initial issue, or a later deluxe edition with a long tracklist including bonus content, etc. Doing a check to determine if there are any potentially long albums in the dataset. The typical album is 12 tracks, but many are longer. Choosing an arbitrary length to find any versions of albums that don't match the version that was reviewed by Pitchfork. "
   ]
  },
  {
   "cell_type": "code",
   "execution_count": null,
   "metadata": {},
   "outputs": [],
   "source": [
    "grouped_by_album = df_spotify_track_audio_features.groupby('Album Title')\n",
    "grouped_by_album.filter(lambda x: len(x) >= 20)['Album Title'].unique()"
   ]
  },
  {
   "cell_type": "markdown",
   "metadata": {},
   "source": [
    "A manual inspection of the Pitchfork album review and Spotify app confirmed that the following albums from the list above are simply just long albums: Kern Vol. 5, Josey in Space, Aporia, Becoming Peter Ivers, First Collection 2006 – 2009,  The Legendary Riverside Albums, The Complete Birth of the Cool, Fabric Presents Bonobo, Universal Beings, The Final Tour: The Bootleg Series, Vol. 6, The Album, CHILOMBO, Wave Pack, Map of the Soul: 7, White Ladder (20th Anniversary Edition), k bye for now (swt live), In Fabric OST, Hit to Hit, Notes on a Conditional Form, All That Glue,\n",
    "Quickies, græ, Figures, Clube Da Esquina, The Wailing Wailers, Young, Gifted & Yellow, ..And Justice for All, Master of Puppets, So Icy Summer, Young & Turnt 2 (Deluxe), The Godfather 3, El Androide, High Off Life, Negro, Self Hate Wraith, 1988, LUV vs. The World 2, YHLQMDLG, My Turn, The Allegory, Funeral, Music to Be Murdered By"
   ]
  },
  {
   "cell_type": "markdown",
   "metadata": {},
   "source": [
    "The following albums reviewed by Pitchfork don't actually exist in Spotify (but ended up finding a similarly named album). These must be removed from the dataset: Pure Moods, Vol. 1, ~how I'm feeling~, Film Music, Box Set"
   ]
  },
  {
   "cell_type": "code",
   "execution_count": null,
   "metadata": {},
   "outputs": [],
   "source": [
    "df_spotify_clean = df_spotify_track_audio_features\n",
    "print('Before')\n",
    "print(df_spotify_clean.shape)\n",
    "df_spotify_clean = df_spotify_clean[df_spotify_clean['Album Title'] != 'Pure Moods, Vol. 1']\n",
    "df_spotify_clean = df_spotify_clean[df_spotify_clean['Album Title'] != '~how i’m feeling~']\n",
    "df_spotify_clean = df_spotify_clean[df_spotify_clean['Album Title'] != 'Film Music']\n",
    "df_spotify_clean = df_spotify_clean[df_spotify_clean['Album Title'] != 'Box Set']\n",
    "print('After')\n",
    "print(df_spotify_clean.shape)"
   ]
  },
  {
   "cell_type": "markdown",
   "metadata": {},
   "source": [
    "The following albums have a regular edition and \"deluxe\" edition. My query pulled the deluxe edition but Pitchfork most likely reviewed the original album (based on some research). These must be replaced with their \"regular\" version releases: There Is No Other, Roaches 2012-2019, Rage Against the Machine.\n",
    "\n",
    "Retrieve client credentials and initialize a `Spotipy` object to make requests."
   ]
  },
  {
   "cell_type": "code",
   "execution_count": null,
   "metadata": {},
   "outputs": [],
   "source": [
    "from utilities.spotify_creds import CLIENT_ID, CLIENT_SECRET\n",
    "client_credentials_manager = oauth2.SpotifyClientCredentials(CLIENT_ID, CLIENT_SECRET)\n",
    "sp = spotipy.Spotify(client_credentials_manager=client_credentials_manager)"
   ]
  },
  {
   "cell_type": "markdown",
   "metadata": {},
   "source": [
    "First find the proper album version for each incorrect album by getting the \"Album URI\" manually from the Spotify app, and replace the data in `df_spotify_clean`."
   ]
  },
  {
   "cell_type": "code",
   "execution_count": null,
   "metadata": {},
   "outputs": [],
   "source": [
    "correct_album_info = [\n",
    "    'There Is No Other', 'Isobell Campbell', 'spotify:album:3UV8GZVOWHiooIByFrMLYa',\n",
    "    'Roaches 2012-2019', 'Dean Blunt', 'spotify:album:4ycaKvYlGxhy1jDJXwnq83',\n",
    "    'Rage Against the Machine', 'Rage Against the Machine', 'spotify:album:4LaRYkT4oy47wEuQgkLBul'\n",
    "]\n",
    "for album in correct_album_info:\n",
    "    album_name = correct_album_info[0]\n",
    "    artist_name = correct_album_info[1]\n",
    "    correct_album_uri = correct_album_info[2]\n",
    "    df_spotify_clean = replace_track_features_with_correct_album(sp, album_name, artist_name, correct_album_uri, \n",
    "                                                                 df_spotify_clean)"
   ]
  },
  {
   "cell_type": "markdown",
   "metadata": {},
   "source": [
    "Confirm that it worked."
   ]
  },
  {
   "cell_type": "code",
   "execution_count": null,
   "metadata": {},
   "outputs": [],
   "source": [
    "df_spotify_clean[df_spotify_clean['Album Title'] == 'There Is No Other'].shape"
   ]
  },
  {
   "cell_type": "markdown",
   "metadata": {},
   "source": [
    "For the rest of the albums in question, some investigation is needed:\n",
    "\n",
    "\"Forever\""
   ]
  },
  {
   "cell_type": "code",
   "execution_count": null,
   "metadata": {},
   "outputs": [],
   "source": [
    "df_spotify_track_audio_features[df_spotify_track_audio_features['Album Title'] == 'Forever']"
   ]
  },
  {
   "cell_type": "markdown",
   "metadata": {},
   "source": [
    "It appears that there are 2 albums with the same name. This is not an issue, but indicates that when doing any \"groupby\" operations in the future, I must include artist in addition to album title.\n",
    "\n",
    "\"Harkin\""
   ]
  },
  {
   "cell_type": "code",
   "execution_count": null,
   "metadata": {},
   "outputs": [],
   "source": [
    "df_spotify_track_audio_features[df_spotify_track_audio_features['Album Title'] == 'Harkin'].shape"
   ]
  },
  {
   "cell_type": "code",
   "execution_count": null,
   "metadata": {},
   "outputs": [],
   "source": [
    "df_spotify_track_audio_features[df_spotify_track_audio_features['Album Title'] == 'Harkin'].head()"
   ]
  },
  {
   "cell_type": "markdown",
   "metadata": {},
   "source": [
    "Plugging one of the Track URIs into the Spotify app yields a very different album (with an identical name) than the \n",
    "one from the Pitchfork review. Replacing the data with that from the correct album fixes this issue."
   ]
  },
  {
   "cell_type": "code",
   "execution_count": null,
   "metadata": {},
   "outputs": [],
   "source": [
    "print('Before')\n",
    "print(df_spotify_clean.shape)\n",
    "df_spotify_clean = replace_track_features_with_correct_album(\n",
    "    spotify_api_client=sp, \n",
    "    album_name='Harkin', \n",
    "    artist_name='Harkin', \n",
    "    correct_album_uri='spotify:album:4lFMxrBwNtHkmvcPAT5BAx', \n",
    "    df_spotify=df_spotify_clean\n",
    ")\n",
    "print('After')\n",
    "print(df_spotify_clean.shape)"
   ]
  },
  {
   "cell_type": "markdown",
   "metadata": {},
   "source": [
    "\"The Wailing Wailers\""
   ]
  },
  {
   "cell_type": "code",
   "execution_count": null,
   "metadata": {},
   "outputs": [],
   "source": [
    "df_spotify_track_audio_features[df_spotify_track_audio_features['Album Title'] == 'The Wailing Wailers'].head()"
   ]
  },
  {
   "cell_type": "markdown",
   "metadata": {},
   "source": [
    "Same issue as previous. The Track URIs correspond to a different album. Replacing it."
   ]
  },
  {
   "cell_type": "code",
   "execution_count": null,
   "metadata": {},
   "outputs": [],
   "source": [
    "print('Before')\n",
    "print(df_spotify_clean.shape)\n",
    "df_spotify_clean = replace_track_features_with_correct_album(\n",
    "    spotify_api_client=sp, \n",
    "    album_name='The Wailing Wailers', \n",
    "    artist_name='The Wailers', \n",
    "    correct_album_uri='spotify:album:6WpLPng7naRDGbMxdsJ5Dw', \n",
    "    df_spotify=df_spotify_clean\n",
    ")\n",
    "print('After')\n",
    "print(df_spotify_clean.shape)"
   ]
  },
  {
   "cell_type": "markdown",
   "metadata": {},
   "source": [
    "Save the cleaned spotify dataframe to a pickle."
   ]
  },
  {
   "cell_type": "code",
   "execution_count": null,
   "metadata": {},
   "outputs": [],
   "source": [
    "df_spotify_clean.to_pickle('../data/clean_spotify_track_audio_features.pkl')"
   ]
  },
  {
   "cell_type": "markdown",
   "metadata": {},
   "source": [
    "<h3><a id='cleaning-spotify-popularity'>Cleaning Spotify Track Popularity Data</a></h3>\n",
    "\n",
    "Load data."
   ]
  },
  {
   "cell_type": "code",
   "execution_count": null,
   "metadata": {},
   "outputs": [],
   "source": [
    "df_spotify_track_popularity = pd.read_pickle('../data/spotify_track_popularity_data.pkl')\n",
    "df_spotify_track_popularity.head()"
   ]
  },
  {
   "cell_type": "code",
   "execution_count": null,
   "metadata": {},
   "outputs": [],
   "source": [
    "df_spotify_track_popularity.info()"
   ]
  },
  {
   "cell_type": "markdown",
   "metadata": {},
   "source": [
    "No null values. Check basic statistics."
   ]
  },
  {
   "cell_type": "code",
   "execution_count": null,
   "metadata": {},
   "outputs": [],
   "source": [
    "df_spotify_track_popularity.hist(bins=50)"
   ]
  },
  {
   "cell_type": "code",
   "execution_count": null,
   "metadata": {},
   "outputs": [],
   "source": [
    "df_spotify_track_popularity.describe()"
   ]
  },
  {
   "cell_type": "markdown",
   "metadata": {},
   "source": [
    "Nothing in particular stands out here. It's not ideal that the targets aren't normally distributed, but I can potentially do a log transform on that later. I'll spot check the data on either end (0 and 100) to make sure the Spotify app popularity meter matches for songs."
   ]
  },
  {
   "cell_type": "code",
   "execution_count": null,
   "metadata": {},
   "outputs": [],
   "source": [
    "df_spotify_track_popularity[df_spotify_track_popularity['Popularity'] == 100]"
   ]
  },
  {
   "cell_type": "code",
   "execution_count": null,
   "metadata": {},
   "outputs": [],
   "source": [
    "df_spotify_track_popularity[df_spotify_track_popularity['Popularity'] == 0].head()"
   ]
  },
  {
   "cell_type": "markdown",
   "metadata": {},
   "source": [
    "Check for duplicates and drop them."
   ]
  },
  {
   "cell_type": "code",
   "execution_count": null,
   "metadata": {},
   "outputs": [],
   "source": [
    "df_spotify_track_popularity.duplicated().any()"
   ]
  },
  {
   "cell_type": "code",
   "execution_count": null,
   "metadata": {},
   "outputs": [],
   "source": [
    "df_spotify_track_popularity_clean = df_spotify_track_popularity.copy()\n",
    "df_spotify_track_popularity_clean.drop_duplicates(inplace=True)\n",
    "df_spotify_track_popularity_clean.duplicated().any()"
   ]
  },
  {
   "cell_type": "markdown",
   "metadata": {},
   "source": [
    "Save cleaned dataset to pickle."
   ]
  },
  {
   "cell_type": "code",
   "execution_count": null,
   "metadata": {},
   "outputs": [],
   "source": [
    "df_spotify_track_popularity_clean.to_pickle('../data/spotify_track_popularity_clean.pkl')"
   ]
  },
  {
   "cell_type": "markdown",
   "metadata": {},
   "source": [
    "<h2><a id='final-data-prep'>I. Final Dataset Preparation</a></h2>\n",
    "\n",
    "This section of the notebook makes any initial transformations to datasets and combines features with targets.\n",
    "\n",
    "<h3><a id='dataset1-prep'>Dataset V1 (for predicting Pitchfork Album Ratings)</a></h3>\n",
    "\n",
    "<h4><a id='album-features'>Aggregating Track-Level Audio Features to Album-Level Features</a></h4>\n",
    "\n",
    "The Spotify API provides a unique dataset of \"audio features\" for every song on their platform in addition to some basic metadata. Audio features are parameters calculated using proprietary Spotify algorithms that represent diferrent \n",
    "perceptible qualities of the music in numerical form.\n",
    "\n",
    "For now I will make some simple assumptions to generate an MVP of album-level metrics to prepare the data for exploratory data analysis. Other pre-preprocessing steps can be done later:\n",
    "\n",
    "##### Aggregation Strategy for MVP\n",
    "- **Duration**: This is the length of the song in milliseconds. Album-level metric will be a sum since this corresponds to how long the overall listening experience is.\n",
    "- **Tempo**: This is the estimated speed of the song in beats per minute. Album-level metric will be an average.\n",
    "- **Key**: The key is, in simple terms, the \"root note\" (think notes on a piano) of a song. While I've heard that there are subconsciously \"preferred\" keys, I like songs in almost every key, so I don't buy that this will be effective and won't include it initially.\n",
    "- **Mode**: The mode indicates a major or minor key. The casual listener interprets these as \"happy\" or \"sad\"-sounding, respectively. Album-level metric will be the \"percentage\" major on a 0 to 1 scale.\n",
    "- **Time Signature**: Number of beats per \"measure\" of the song (a typical song has 4). It's relatively unlikely that tracks would not be in a time signature of 4. I'm not sure the best way to handle categorical features like this, or if it needs to be evenly distributed to be a good features, so I'm not going to include it for now.\n",
    "- **Danceability**: Measure of how danceable a song is from a scale of 0 to 1. Album level metric will be an average.\n",
    "- **Energy**: A perceptual meausre of intensity and activity from a scale of 0 to 1. Album level metric will be an average.\n",
    "- **Loudness**: The overall loudness of a song in dB on a scale of -60 to 0. Album level metric will be an average.\n",
    "- **Spechiness**: Detects the presence of spoken words in a song on a scale of 0 to 1. A lower number (0-0.33) tends to indicate less speech, a moderate number (0.33-0.66) tends to indicate a mix of music and spoken word like rap, and a higher number (0.66-1) tends to indicate something like a poetry album. _Note to self: Take care to see how it related to the genre feature in the Pitchfork data set._ Album level metric will be an average.\n",
    "- **Acousticness**: A confidence measure on if the song is acoustic on a scale of 0 to 1. Album level metric will be an average.\n",
    "- **Instrumentalness**: A measure on a scale of 0 to 1 on whether a track has no vocals (excluding adlibs like ooh-ahh's). Values about 0.5 tend to indicate an instrumental track. Album level metric will be an average.\n",
    "- **Liveness**: Detects the presence of an audience in a recording on a scale of 0 to 1. A value of 0.8 or above indicates a strong chance that the song is a live recording. Album level metric will be an average., but this should be explored. Pitchfork does review live albums, but potentially infrequently.\n",
    "- **Valence**: A measure from 0 to 1 indicating the \"musical positiveness\" of a track. Generally, Major key songs sound happier, so I need to take a look at the relationship with **Mode** to make sure they aren't colinear. Album level metric will be an average.\n",
    "- Create a \"number of tracks\" column.\n",
    "\n",
    "##### Additional Aggregation Strategies to Try After MVP\n",
    "If the initial parameters don't support a good model, here are some brainstormed ideas of what to add/change:\n",
    "- **Duration**: can try average track length per album \n",
    "- **Key**: include in general\n",
    "- **Mode**: If key is relevant, combine with key in some way.\n",
    "- **Time Signature**: Could include a Boolean for if the album contains values that aren't 4. Could include a dummy encoding of which time signatures are in the album, or a column for frequency.\n",
    "- **Danceability, Energy, Loudness, Speechiness, Acousticness, Instrumentalness, Liveness, Vance**: Could play around with \"ranges\" of values, maxmimums, etc. as features.\n",
    "\n",
    "For more detailed information on these parameters refer to the \n",
    "[Spotify API Documentation](https://developer.spotify.com/documentation/web-api/reference/tracks/get-audio-features/).\n",
    "\n",
    "Load data."
   ]
  },
  {
   "cell_type": "code",
   "execution_count": null,
   "metadata": {},
   "outputs": [],
   "source": [
    "df_spotify_clean = pd.read_pickle('../data/clean_spotify_track_audio_features.pkl')"
   ]
  },
  {
   "cell_type": "markdown",
   "metadata": {},
   "source": [
    "Perform album-level feature aggregation."
   ]
  },
  {
   "cell_type": "code",
   "execution_count": null,
   "metadata": {},
   "outputs": [],
   "source": [
    "df_spotify_album_features = (\n",
    "    df_spotify_clean\n",
    "    .groupby(['Album Title', 'Artist'], as_index=False)\n",
    "    .apply(generate_spotify_album_features)\n",
    ").reset_index()\n",
    "df_spotify_album_features.drop(['level_0', 'level_1'], axis=1, inplace=True)"
   ]
  },
  {
   "cell_type": "code",
   "execution_count": null,
   "metadata": {},
   "outputs": [],
   "source": [
    "df_spotify_album_features.shape"
   ]
  },
  {
   "cell_type": "markdown",
   "metadata": {},
   "source": [
    "Save processed album feature data to pickle."
   ]
  },
  {
   "cell_type": "code",
   "execution_count": null,
   "metadata": {},
   "outputs": [],
   "source": [
    "df_spotify_album_features.to_pickle('../data/processed_spotify_album_features.pkl')"
   ]
  },
  {
   "cell_type": "markdown",
   "metadata": {},
   "source": [
    "<h4><a id='combine-v1'>Merge Album-Level Features with Pitchfork Album Rating Targets</a></h4>\n",
    "\n",
    "Load data to merge in case it isn't currently in workspace."
   ]
  },
  {
   "cell_type": "code",
   "execution_count": null,
   "metadata": {},
   "outputs": [],
   "source": [
    "df_spotify_album_features = pd.read_pickle('../data/processed_spotify_album_features.pkl')\n",
    "df_pitchfork_album_ratings = pd.read_pickle('../data/pitchfork_album_ratings.pkl')\n",
    "df_pitchfork_album_ratings.head()"
   ]
  },
  {
   "cell_type": "markdown",
   "metadata": {},
   "source": [
    "Merge data."
   ]
  },
  {
   "cell_type": "code",
   "execution_count": null,
   "metadata": {},
   "outputs": [],
   "source": [
    "dataset_v1 = df_spotify_album_features.merge(df_pitchfork_album_ratings, on=['Album Title', 'Artist'])\n",
    "dataset_v1.shape"
   ]
  },
  {
   "cell_type": "code",
   "execution_count": null,
   "metadata": {},
   "outputs": [],
   "source": [
    "dataset_v1.head()"
   ]
  },
  {
   "cell_type": "markdown",
   "metadata": {},
   "source": [
    "Since we only have a cleaned dataset for 752 albums, the merged dataset shouldn't have MORE columns. Haven't been able to figure it out yet...\n",
    "\n",
    "Save dataset to use in EDA and modeling for Project V1. (See `EDA & Modeling Workbook (Project V1).ipynb`)."
   ]
  },
  {
   "cell_type": "code",
   "execution_count": null,
   "metadata": {},
   "outputs": [],
   "source": [
    "dataset_v1.to_pickle('../data/dataset_v1.pkl')"
   ]
  },
  {
   "cell_type": "markdown",
   "metadata": {},
   "source": [
    "<h3><a id=dataset2-prep>Dataset V2 (for predicting Spotify Track Popularity)</a></h3"
   ]
  },
  {
   "cell_type": "markdown",
   "metadata": {},
   "source": [
    "Merge Track Features with Spotify Track Popularity."
   ]
  },
  {
   "cell_type": "code",
   "execution_count": 45,
   "metadata": {},
   "outputs": [],
   "source": [
    "df_spotify_track_features_clean = pd.read_pickle('../data/clean_spotify_track_audio_features.pkl')\n",
    "df_spotify_track_popularity_clean = pd.read_pickle('../data/spotify_track_popularity_clean.pkl')"
   ]
  },
  {
   "cell_type": "code",
   "execution_count": 46,
   "metadata": {},
   "outputs": [
    {
     "name": "stdout",
     "output_type": "stream",
     "text": [
      "Before\n",
      "(8499, 16)\n",
      "After\n",
      "(8458, 18)\n"
     ]
    }
   ],
   "source": [
    "print('Before')\n",
    "print(df_spotify_track_features_clean.shape)\n",
    "dataset_v2 = df_spotify_track_features_clean.merge(df_spotify_track_popularity_clean, on='Track URI')\n",
    "print('After')\n",
    "print(dataset_v2.shape)"
   ]
  },
  {
   "cell_type": "code",
   "execution_count": 47,
   "metadata": {},
   "outputs": [
    {
     "data": {
      "text/html": [
       "<div>\n",
       "<style scoped>\n",
       "    .dataframe tbody tr th:only-of-type {\n",
       "        vertical-align: middle;\n",
       "    }\n",
       "\n",
       "    .dataframe tbody tr th {\n",
       "        vertical-align: top;\n",
       "    }\n",
       "\n",
       "    .dataframe thead th {\n",
       "        text-align: right;\n",
       "    }\n",
       "</style>\n",
       "<table border=\"1\" class=\"dataframe\">\n",
       "  <thead>\n",
       "    <tr style=\"text-align: right;\">\n",
       "      <th></th>\n",
       "      <th>Acousticness</th>\n",
       "      <th>Album Title</th>\n",
       "      <th>Artist</th>\n",
       "      <th>Danceability</th>\n",
       "      <th>Duration (ms)</th>\n",
       "      <th>Energy</th>\n",
       "      <th>Instrumentalness</th>\n",
       "      <th>Key</th>\n",
       "      <th>Liveness</th>\n",
       "      <th>Loudness</th>\n",
       "      <th>Mode</th>\n",
       "      <th>Speechiness</th>\n",
       "      <th>Tempo</th>\n",
       "      <th>Time Signature</th>\n",
       "      <th>Track URI</th>\n",
       "      <th>Valence</th>\n",
       "      <th>Artist Followers</th>\n",
       "      <th>Popularity</th>\n",
       "    </tr>\n",
       "  </thead>\n",
       "  <tbody>\n",
       "    <tr>\n",
       "      <th>0</th>\n",
       "      <td>0.00213</td>\n",
       "      <td>Source</td>\n",
       "      <td>Gábor Lázár</td>\n",
       "      <td>0.912</td>\n",
       "      <td>319653</td>\n",
       "      <td>0.432</td>\n",
       "      <td>0.5330</td>\n",
       "      <td>9</td>\n",
       "      <td>0.1270</td>\n",
       "      <td>-11.391</td>\n",
       "      <td>0</td>\n",
       "      <td>0.4070</td>\n",
       "      <td>139.135</td>\n",
       "      <td>4</td>\n",
       "      <td>spotify:track:6mKb9ag4jrHwFhCGjH8oVz</td>\n",
       "      <td>0.595</td>\n",
       "      <td>2202</td>\n",
       "      <td>14</td>\n",
       "    </tr>\n",
       "    <tr>\n",
       "      <th>1</th>\n",
       "      <td>0.03920</td>\n",
       "      <td>Source</td>\n",
       "      <td>Gábor Lázár</td>\n",
       "      <td>0.439</td>\n",
       "      <td>305800</td>\n",
       "      <td>0.656</td>\n",
       "      <td>0.8970</td>\n",
       "      <td>4</td>\n",
       "      <td>0.0458</td>\n",
       "      <td>-11.742</td>\n",
       "      <td>0</td>\n",
       "      <td>0.2950</td>\n",
       "      <td>185.158</td>\n",
       "      <td>5</td>\n",
       "      <td>spotify:track:3LtcsFAH38idlP45ThtzAF</td>\n",
       "      <td>0.630</td>\n",
       "      <td>2202</td>\n",
       "      <td>12</td>\n",
       "    </tr>\n",
       "    <tr>\n",
       "      <th>2</th>\n",
       "      <td>0.00376</td>\n",
       "      <td>Source</td>\n",
       "      <td>Gábor Lázár</td>\n",
       "      <td>0.674</td>\n",
       "      <td>313133</td>\n",
       "      <td>0.614</td>\n",
       "      <td>0.0168</td>\n",
       "      <td>11</td>\n",
       "      <td>0.0832</td>\n",
       "      <td>-13.093</td>\n",
       "      <td>0</td>\n",
       "      <td>0.5250</td>\n",
       "      <td>127.170</td>\n",
       "      <td>4</td>\n",
       "      <td>spotify:track:1dIffS1hkTBngqiQVHRTuz</td>\n",
       "      <td>0.652</td>\n",
       "      <td>2202</td>\n",
       "      <td>11</td>\n",
       "    </tr>\n",
       "    <tr>\n",
       "      <th>3</th>\n",
       "      <td>0.02220</td>\n",
       "      <td>Source</td>\n",
       "      <td>Gábor Lázár</td>\n",
       "      <td>0.737</td>\n",
       "      <td>303187</td>\n",
       "      <td>0.724</td>\n",
       "      <td>0.9040</td>\n",
       "      <td>5</td>\n",
       "      <td>0.2470</td>\n",
       "      <td>-11.910</td>\n",
       "      <td>0</td>\n",
       "      <td>0.0692</td>\n",
       "      <td>152.982</td>\n",
       "      <td>4</td>\n",
       "      <td>spotify:track:5RBTHkcqbwriNoQ6GZXwrx</td>\n",
       "      <td>0.534</td>\n",
       "      <td>2202</td>\n",
       "      <td>10</td>\n",
       "    </tr>\n",
       "    <tr>\n",
       "      <th>4</th>\n",
       "      <td>0.00103</td>\n",
       "      <td>Source</td>\n",
       "      <td>Gábor Lázár</td>\n",
       "      <td>0.513</td>\n",
       "      <td>322507</td>\n",
       "      <td>0.593</td>\n",
       "      <td>0.8220</td>\n",
       "      <td>11</td>\n",
       "      <td>0.1290</td>\n",
       "      <td>-12.871</td>\n",
       "      <td>0</td>\n",
       "      <td>0.2070</td>\n",
       "      <td>93.271</td>\n",
       "      <td>5</td>\n",
       "      <td>spotify:track:2jX2NQwvCGThBhLMe5VIPF</td>\n",
       "      <td>0.313</td>\n",
       "      <td>2202</td>\n",
       "      <td>9</td>\n",
       "    </tr>\n",
       "  </tbody>\n",
       "</table>\n",
       "</div>"
      ],
      "text/plain": [
       "   Acousticness Album Title       Artist  Danceability  Duration (ms)  Energy  \\\n",
       "0       0.00213      Source  Gábor Lázár         0.912         319653   0.432   \n",
       "1       0.03920      Source  Gábor Lázár         0.439         305800   0.656   \n",
       "2       0.00376      Source  Gábor Lázár         0.674         313133   0.614   \n",
       "3       0.02220      Source  Gábor Lázár         0.737         303187   0.724   \n",
       "4       0.00103      Source  Gábor Lázár         0.513         322507   0.593   \n",
       "\n",
       "   Instrumentalness  Key  Liveness  Loudness  Mode  Speechiness    Tempo  \\\n",
       "0            0.5330    9    0.1270   -11.391     0       0.4070  139.135   \n",
       "1            0.8970    4    0.0458   -11.742     0       0.2950  185.158   \n",
       "2            0.0168   11    0.0832   -13.093     0       0.5250  127.170   \n",
       "3            0.9040    5    0.2470   -11.910     0       0.0692  152.982   \n",
       "4            0.8220   11    0.1290   -12.871     0       0.2070   93.271   \n",
       "\n",
       "   Time Signature                             Track URI  Valence  \\\n",
       "0               4  spotify:track:6mKb9ag4jrHwFhCGjH8oVz    0.595   \n",
       "1               5  spotify:track:3LtcsFAH38idlP45ThtzAF    0.630   \n",
       "2               4  spotify:track:1dIffS1hkTBngqiQVHRTuz    0.652   \n",
       "3               4  spotify:track:5RBTHkcqbwriNoQ6GZXwrx    0.534   \n",
       "4               5  spotify:track:2jX2NQwvCGThBhLMe5VIPF    0.313   \n",
       "\n",
       "   Artist Followers  Popularity  \n",
       "0              2202          14  \n",
       "1              2202          12  \n",
       "2              2202          11  \n",
       "3              2202          10  \n",
       "4              2202           9  "
      ]
     },
     "execution_count": 47,
     "metadata": {},
     "output_type": "execute_result"
    }
   ],
   "source": [
    "dataset_v2.head()"
   ]
  },
  {
   "cell_type": "markdown",
   "metadata": {},
   "source": [
    "Spot check a row of this dataset."
   ]
  },
  {
   "cell_type": "code",
   "execution_count": 48,
   "metadata": {},
   "outputs": [
    {
     "data": {
      "text/html": [
       "<div>\n",
       "<style scoped>\n",
       "    .dataframe tbody tr th:only-of-type {\n",
       "        vertical-align: middle;\n",
       "    }\n",
       "\n",
       "    .dataframe tbody tr th {\n",
       "        vertical-align: top;\n",
       "    }\n",
       "\n",
       "    .dataframe thead th {\n",
       "        text-align: right;\n",
       "    }\n",
       "</style>\n",
       "<table border=\"1\" class=\"dataframe\">\n",
       "  <thead>\n",
       "    <tr style=\"text-align: right;\">\n",
       "      <th></th>\n",
       "      <th>Artist Followers</th>\n",
       "      <th>Popularity</th>\n",
       "      <th>Track URI</th>\n",
       "    </tr>\n",
       "  </thead>\n",
       "  <tbody>\n",
       "    <tr>\n",
       "      <th>1</th>\n",
       "      <td>2202</td>\n",
       "      <td>12</td>\n",
       "      <td>spotify:track:3LtcsFAH38idlP45ThtzAF</td>\n",
       "    </tr>\n",
       "  </tbody>\n",
       "</table>\n",
       "</div>"
      ],
      "text/plain": [
       "   Artist Followers  Popularity                             Track URI\n",
       "1              2202          12  spotify:track:3LtcsFAH38idlP45ThtzAF"
      ]
     },
     "execution_count": 48,
     "metadata": {},
     "output_type": "execute_result"
    }
   ],
   "source": [
    "df_spotify_track_popularity_clean[df_spotify_track_popularity_clean['Track URI'] == 'spotify:track:3LtcsFAH38idlP45ThtzAF']"
   ]
  },
  {
   "cell_type": "markdown",
   "metadata": {},
   "source": [
    "Merge Genre (from Pitchfork Album Ratings) with dataset."
   ]
  },
  {
   "cell_type": "code",
   "execution_count": 49,
   "metadata": {},
   "outputs": [
    {
     "name": "stdout",
     "output_type": "stream",
     "text": [
      "Before\n",
      "(8458, 18)\n",
      "After\n",
      "(8719, 19)\n"
     ]
    }
   ],
   "source": [
    "print('Before')\n",
    "print(dataset_v2.shape)\n",
    "df_pitchfork_album_ratings = pd.read_pickle('../data/pitchfork_album_ratings.pkl')\n",
    "df_pitchfork_album_ratings.drop('Rating', axis=1, inplace=True)\n",
    "dataset_v2 = dataset_v2.merge(df_pitchfork_album_ratings, on=['Album Title', 'Artist'])\n",
    "print('After')\n",
    "print(dataset_v2.shape)"
   ]
  },
  {
   "cell_type": "markdown",
   "metadata": {},
   "source": [
    "Not sure why number of rows went up. Need to figure that out.\n",
    "\n",
    "Remove metadata as well as columns that don't seem too useful as features (explained in creation of dataset_v1)."
   ]
  },
  {
   "cell_type": "code",
   "execution_count": 50,
   "metadata": {},
   "outputs": [],
   "source": [
    "dataset_v2.drop(['Album Title', 'Artist', 'Track URI', 'Time Signature', 'Key'], axis=1, inplace=True)"
   ]
  },
  {
   "cell_type": "markdown",
   "metadata": {},
   "source": [
    "Convert duration to minutes."
   ]
  },
  {
   "cell_type": "code",
   "execution_count": 51,
   "metadata": {},
   "outputs": [
    {
     "data": {
      "text/html": [
       "<div>\n",
       "<style scoped>\n",
       "    .dataframe tbody tr th:only-of-type {\n",
       "        vertical-align: middle;\n",
       "    }\n",
       "\n",
       "    .dataframe tbody tr th {\n",
       "        vertical-align: top;\n",
       "    }\n",
       "\n",
       "    .dataframe thead th {\n",
       "        text-align: right;\n",
       "    }\n",
       "</style>\n",
       "<table border=\"1\" class=\"dataframe\">\n",
       "  <thead>\n",
       "    <tr style=\"text-align: right;\">\n",
       "      <th></th>\n",
       "      <th>Acousticness</th>\n",
       "      <th>Danceability</th>\n",
       "      <th>Energy</th>\n",
       "      <th>Instrumentalness</th>\n",
       "      <th>Liveness</th>\n",
       "      <th>Loudness</th>\n",
       "      <th>Mode</th>\n",
       "      <th>Speechiness</th>\n",
       "      <th>Tempo</th>\n",
       "      <th>Valence</th>\n",
       "      <th>Artist Followers</th>\n",
       "      <th>Popularity</th>\n",
       "      <th>Genre</th>\n",
       "      <th>Duration (minutes)</th>\n",
       "    </tr>\n",
       "  </thead>\n",
       "  <tbody>\n",
       "    <tr>\n",
       "      <th>0</th>\n",
       "      <td>0.00213</td>\n",
       "      <td>0.912</td>\n",
       "      <td>0.432</td>\n",
       "      <td>0.5330</td>\n",
       "      <td>0.1270</td>\n",
       "      <td>-11.391</td>\n",
       "      <td>0</td>\n",
       "      <td>0.4070</td>\n",
       "      <td>139.135</td>\n",
       "      <td>0.595</td>\n",
       "      <td>2202</td>\n",
       "      <td>14</td>\n",
       "      <td>Electronic</td>\n",
       "      <td>5.33</td>\n",
       "    </tr>\n",
       "    <tr>\n",
       "      <th>1</th>\n",
       "      <td>0.03920</td>\n",
       "      <td>0.439</td>\n",
       "      <td>0.656</td>\n",
       "      <td>0.8970</td>\n",
       "      <td>0.0458</td>\n",
       "      <td>-11.742</td>\n",
       "      <td>0</td>\n",
       "      <td>0.2950</td>\n",
       "      <td>185.158</td>\n",
       "      <td>0.630</td>\n",
       "      <td>2202</td>\n",
       "      <td>12</td>\n",
       "      <td>Electronic</td>\n",
       "      <td>5.10</td>\n",
       "    </tr>\n",
       "    <tr>\n",
       "      <th>2</th>\n",
       "      <td>0.00376</td>\n",
       "      <td>0.674</td>\n",
       "      <td>0.614</td>\n",
       "      <td>0.0168</td>\n",
       "      <td>0.0832</td>\n",
       "      <td>-13.093</td>\n",
       "      <td>0</td>\n",
       "      <td>0.5250</td>\n",
       "      <td>127.170</td>\n",
       "      <td>0.652</td>\n",
       "      <td>2202</td>\n",
       "      <td>11</td>\n",
       "      <td>Electronic</td>\n",
       "      <td>5.22</td>\n",
       "    </tr>\n",
       "    <tr>\n",
       "      <th>3</th>\n",
       "      <td>0.02220</td>\n",
       "      <td>0.737</td>\n",
       "      <td>0.724</td>\n",
       "      <td>0.9040</td>\n",
       "      <td>0.2470</td>\n",
       "      <td>-11.910</td>\n",
       "      <td>0</td>\n",
       "      <td>0.0692</td>\n",
       "      <td>152.982</td>\n",
       "      <td>0.534</td>\n",
       "      <td>2202</td>\n",
       "      <td>10</td>\n",
       "      <td>Electronic</td>\n",
       "      <td>5.05</td>\n",
       "    </tr>\n",
       "    <tr>\n",
       "      <th>4</th>\n",
       "      <td>0.00103</td>\n",
       "      <td>0.513</td>\n",
       "      <td>0.593</td>\n",
       "      <td>0.8220</td>\n",
       "      <td>0.1290</td>\n",
       "      <td>-12.871</td>\n",
       "      <td>0</td>\n",
       "      <td>0.2070</td>\n",
       "      <td>93.271</td>\n",
       "      <td>0.313</td>\n",
       "      <td>2202</td>\n",
       "      <td>9</td>\n",
       "      <td>Electronic</td>\n",
       "      <td>5.38</td>\n",
       "    </tr>\n",
       "  </tbody>\n",
       "</table>\n",
       "</div>"
      ],
      "text/plain": [
       "   Acousticness  Danceability  Energy  Instrumentalness  Liveness  Loudness  \\\n",
       "0       0.00213         0.912   0.432            0.5330    0.1270   -11.391   \n",
       "1       0.03920         0.439   0.656            0.8970    0.0458   -11.742   \n",
       "2       0.00376         0.674   0.614            0.0168    0.0832   -13.093   \n",
       "3       0.02220         0.737   0.724            0.9040    0.2470   -11.910   \n",
       "4       0.00103         0.513   0.593            0.8220    0.1290   -12.871   \n",
       "\n",
       "   Mode  Speechiness    Tempo  Valence  Artist Followers  Popularity  \\\n",
       "0     0       0.4070  139.135    0.595              2202          14   \n",
       "1     0       0.2950  185.158    0.630              2202          12   \n",
       "2     0       0.5250  127.170    0.652              2202          11   \n",
       "3     0       0.0692  152.982    0.534              2202          10   \n",
       "4     0       0.2070   93.271    0.313              2202           9   \n",
       "\n",
       "        Genre  Duration (minutes)  \n",
       "0  Electronic                5.33  \n",
       "1  Electronic                5.10  \n",
       "2  Electronic                5.22  \n",
       "3  Electronic                5.05  \n",
       "4  Electronic                5.38  "
      ]
     },
     "execution_count": 51,
     "metadata": {},
     "output_type": "execute_result"
    }
   ],
   "source": [
    "dataset_v2['Duration (minutes)'] = round(dataset_v2['Duration (ms)'].div(1000*60), 2)\n",
    "dataset_v2.drop('Duration (ms)', axis=1, inplace=True)\n",
    "dataset_v2.head()"
   ]
  },
  {
   "cell_type": "markdown",
   "metadata": {},
   "source": [
    "Add dummy features for genre."
   ]
  },
  {
   "cell_type": "code",
   "execution_count": 52,
   "metadata": {},
   "outputs": [
    {
     "data": {
      "text/html": [
       "<div>\n",
       "<style scoped>\n",
       "    .dataframe tbody tr th:only-of-type {\n",
       "        vertical-align: middle;\n",
       "    }\n",
       "\n",
       "    .dataframe tbody tr th {\n",
       "        vertical-align: top;\n",
       "    }\n",
       "\n",
       "    .dataframe thead th {\n",
       "        text-align: right;\n",
       "    }\n",
       "</style>\n",
       "<table border=\"1\" class=\"dataframe\">\n",
       "  <thead>\n",
       "    <tr style=\"text-align: right;\">\n",
       "      <th></th>\n",
       "      <th>Acousticness</th>\n",
       "      <th>Danceability</th>\n",
       "      <th>Energy</th>\n",
       "      <th>Instrumentalness</th>\n",
       "      <th>Liveness</th>\n",
       "      <th>Loudness</th>\n",
       "      <th>Mode</th>\n",
       "      <th>Speechiness</th>\n",
       "      <th>Tempo</th>\n",
       "      <th>Valence</th>\n",
       "      <th>...</th>\n",
       "      <th>Duration (minutes)</th>\n",
       "      <th>Electronic</th>\n",
       "      <th>Experimental</th>\n",
       "      <th>Folk/Country</th>\n",
       "      <th>Global</th>\n",
       "      <th>Jazz</th>\n",
       "      <th>Metal</th>\n",
       "      <th>Pop/R&amp;B</th>\n",
       "      <th>Rap/Hip-Hop</th>\n",
       "      <th>Rock</th>\n",
       "    </tr>\n",
       "  </thead>\n",
       "  <tbody>\n",
       "    <tr>\n",
       "      <th>0</th>\n",
       "      <td>0.00213</td>\n",
       "      <td>0.912</td>\n",
       "      <td>0.432</td>\n",
       "      <td>0.5330</td>\n",
       "      <td>0.1270</td>\n",
       "      <td>-11.391</td>\n",
       "      <td>0</td>\n",
       "      <td>0.4070</td>\n",
       "      <td>139.135</td>\n",
       "      <td>0.595</td>\n",
       "      <td>...</td>\n",
       "      <td>5.33</td>\n",
       "      <td>1</td>\n",
       "      <td>0</td>\n",
       "      <td>0</td>\n",
       "      <td>0</td>\n",
       "      <td>0</td>\n",
       "      <td>0</td>\n",
       "      <td>0</td>\n",
       "      <td>0</td>\n",
       "      <td>0</td>\n",
       "    </tr>\n",
       "    <tr>\n",
       "      <th>1</th>\n",
       "      <td>0.03920</td>\n",
       "      <td>0.439</td>\n",
       "      <td>0.656</td>\n",
       "      <td>0.8970</td>\n",
       "      <td>0.0458</td>\n",
       "      <td>-11.742</td>\n",
       "      <td>0</td>\n",
       "      <td>0.2950</td>\n",
       "      <td>185.158</td>\n",
       "      <td>0.630</td>\n",
       "      <td>...</td>\n",
       "      <td>5.10</td>\n",
       "      <td>1</td>\n",
       "      <td>0</td>\n",
       "      <td>0</td>\n",
       "      <td>0</td>\n",
       "      <td>0</td>\n",
       "      <td>0</td>\n",
       "      <td>0</td>\n",
       "      <td>0</td>\n",
       "      <td>0</td>\n",
       "    </tr>\n",
       "    <tr>\n",
       "      <th>2</th>\n",
       "      <td>0.00376</td>\n",
       "      <td>0.674</td>\n",
       "      <td>0.614</td>\n",
       "      <td>0.0168</td>\n",
       "      <td>0.0832</td>\n",
       "      <td>-13.093</td>\n",
       "      <td>0</td>\n",
       "      <td>0.5250</td>\n",
       "      <td>127.170</td>\n",
       "      <td>0.652</td>\n",
       "      <td>...</td>\n",
       "      <td>5.22</td>\n",
       "      <td>1</td>\n",
       "      <td>0</td>\n",
       "      <td>0</td>\n",
       "      <td>0</td>\n",
       "      <td>0</td>\n",
       "      <td>0</td>\n",
       "      <td>0</td>\n",
       "      <td>0</td>\n",
       "      <td>0</td>\n",
       "    </tr>\n",
       "    <tr>\n",
       "      <th>3</th>\n",
       "      <td>0.02220</td>\n",
       "      <td>0.737</td>\n",
       "      <td>0.724</td>\n",
       "      <td>0.9040</td>\n",
       "      <td>0.2470</td>\n",
       "      <td>-11.910</td>\n",
       "      <td>0</td>\n",
       "      <td>0.0692</td>\n",
       "      <td>152.982</td>\n",
       "      <td>0.534</td>\n",
       "      <td>...</td>\n",
       "      <td>5.05</td>\n",
       "      <td>1</td>\n",
       "      <td>0</td>\n",
       "      <td>0</td>\n",
       "      <td>0</td>\n",
       "      <td>0</td>\n",
       "      <td>0</td>\n",
       "      <td>0</td>\n",
       "      <td>0</td>\n",
       "      <td>0</td>\n",
       "    </tr>\n",
       "    <tr>\n",
       "      <th>4</th>\n",
       "      <td>0.00103</td>\n",
       "      <td>0.513</td>\n",
       "      <td>0.593</td>\n",
       "      <td>0.8220</td>\n",
       "      <td>0.1290</td>\n",
       "      <td>-12.871</td>\n",
       "      <td>0</td>\n",
       "      <td>0.2070</td>\n",
       "      <td>93.271</td>\n",
       "      <td>0.313</td>\n",
       "      <td>...</td>\n",
       "      <td>5.38</td>\n",
       "      <td>1</td>\n",
       "      <td>0</td>\n",
       "      <td>0</td>\n",
       "      <td>0</td>\n",
       "      <td>0</td>\n",
       "      <td>0</td>\n",
       "      <td>0</td>\n",
       "      <td>0</td>\n",
       "      <td>0</td>\n",
       "    </tr>\n",
       "  </tbody>\n",
       "</table>\n",
       "<p>5 rows × 22 columns</p>\n",
       "</div>"
      ],
      "text/plain": [
       "   Acousticness  Danceability  Energy  Instrumentalness  Liveness  Loudness  \\\n",
       "0       0.00213         0.912   0.432            0.5330    0.1270   -11.391   \n",
       "1       0.03920         0.439   0.656            0.8970    0.0458   -11.742   \n",
       "2       0.00376         0.674   0.614            0.0168    0.0832   -13.093   \n",
       "3       0.02220         0.737   0.724            0.9040    0.2470   -11.910   \n",
       "4       0.00103         0.513   0.593            0.8220    0.1290   -12.871   \n",
       "\n",
       "   Mode  Speechiness    Tempo  Valence  ...   Duration (minutes)  Electronic  \\\n",
       "0     0       0.4070  139.135    0.595  ...                 5.33           1   \n",
       "1     0       0.2950  185.158    0.630  ...                 5.10           1   \n",
       "2     0       0.5250  127.170    0.652  ...                 5.22           1   \n",
       "3     0       0.0692  152.982    0.534  ...                 5.05           1   \n",
       "4     0       0.2070   93.271    0.313  ...                 5.38           1   \n",
       "\n",
       "   Experimental  Folk/Country  Global  Jazz  Metal  Pop/R&B  Rap/Hip-Hop  Rock  \n",
       "0             0             0       0     0      0        0            0     0  \n",
       "1             0             0       0     0      0        0            0     0  \n",
       "2             0             0       0     0      0        0            0     0  \n",
       "3             0             0       0     0      0        0            0     0  \n",
       "4             0             0       0     0      0        0            0     0  \n",
       "\n",
       "[5 rows x 22 columns]"
      ]
     },
     "execution_count": 52,
     "metadata": {},
     "output_type": "execute_result"
    }
   ],
   "source": [
    "genre_dummies = pd.get_dummies(dataset_v2['Genre'])\n",
    "dataset_v2 = dataset_v2.join(genre_dummies)\n",
    "dataset_v2.drop('Genre', axis=1, inplace=True)\n",
    "dataset_v2.head()"
   ]
  },
  {
   "cell_type": "markdown",
   "metadata": {},
   "source": [
    "Reorder columns for preferred visual order."
   ]
  },
  {
   "cell_type": "code",
   "execution_count": 53,
   "metadata": {},
   "outputs": [
    {
     "data": {
      "text/html": [
       "<div>\n",
       "<style scoped>\n",
       "    .dataframe tbody tr th:only-of-type {\n",
       "        vertical-align: middle;\n",
       "    }\n",
       "\n",
       "    .dataframe tbody tr th {\n",
       "        vertical-align: top;\n",
       "    }\n",
       "\n",
       "    .dataframe thead th {\n",
       "        text-align: right;\n",
       "    }\n",
       "</style>\n",
       "<table border=\"1\" class=\"dataframe\">\n",
       "  <thead>\n",
       "    <tr style=\"text-align: right;\">\n",
       "      <th></th>\n",
       "      <th>Electronic</th>\n",
       "      <th>Experimental</th>\n",
       "      <th>Folk/Country</th>\n",
       "      <th>Global</th>\n",
       "      <th>Jazz</th>\n",
       "      <th>Metal</th>\n",
       "      <th>Pop/R&amp;B</th>\n",
       "      <th>Rap/Hip-Hop</th>\n",
       "      <th>Rock</th>\n",
       "      <th>Duration (minutes)</th>\n",
       "      <th>...</th>\n",
       "      <th>Acousticness</th>\n",
       "      <th>Danceability</th>\n",
       "      <th>Energy</th>\n",
       "      <th>Instrumentalness</th>\n",
       "      <th>Liveness</th>\n",
       "      <th>Loudness</th>\n",
       "      <th>Speechiness</th>\n",
       "      <th>Valence</th>\n",
       "      <th>Artist Followers</th>\n",
       "      <th>Popularity</th>\n",
       "    </tr>\n",
       "  </thead>\n",
       "  <tbody>\n",
       "    <tr>\n",
       "      <th>0</th>\n",
       "      <td>1</td>\n",
       "      <td>0</td>\n",
       "      <td>0</td>\n",
       "      <td>0</td>\n",
       "      <td>0</td>\n",
       "      <td>0</td>\n",
       "      <td>0</td>\n",
       "      <td>0</td>\n",
       "      <td>0</td>\n",
       "      <td>5.33</td>\n",
       "      <td>...</td>\n",
       "      <td>0.00213</td>\n",
       "      <td>0.912</td>\n",
       "      <td>0.432</td>\n",
       "      <td>0.5330</td>\n",
       "      <td>0.1270</td>\n",
       "      <td>-11.391</td>\n",
       "      <td>0.4070</td>\n",
       "      <td>0.595</td>\n",
       "      <td>2202</td>\n",
       "      <td>14</td>\n",
       "    </tr>\n",
       "    <tr>\n",
       "      <th>1</th>\n",
       "      <td>1</td>\n",
       "      <td>0</td>\n",
       "      <td>0</td>\n",
       "      <td>0</td>\n",
       "      <td>0</td>\n",
       "      <td>0</td>\n",
       "      <td>0</td>\n",
       "      <td>0</td>\n",
       "      <td>0</td>\n",
       "      <td>5.10</td>\n",
       "      <td>...</td>\n",
       "      <td>0.03920</td>\n",
       "      <td>0.439</td>\n",
       "      <td>0.656</td>\n",
       "      <td>0.8970</td>\n",
       "      <td>0.0458</td>\n",
       "      <td>-11.742</td>\n",
       "      <td>0.2950</td>\n",
       "      <td>0.630</td>\n",
       "      <td>2202</td>\n",
       "      <td>12</td>\n",
       "    </tr>\n",
       "    <tr>\n",
       "      <th>2</th>\n",
       "      <td>1</td>\n",
       "      <td>0</td>\n",
       "      <td>0</td>\n",
       "      <td>0</td>\n",
       "      <td>0</td>\n",
       "      <td>0</td>\n",
       "      <td>0</td>\n",
       "      <td>0</td>\n",
       "      <td>0</td>\n",
       "      <td>5.22</td>\n",
       "      <td>...</td>\n",
       "      <td>0.00376</td>\n",
       "      <td>0.674</td>\n",
       "      <td>0.614</td>\n",
       "      <td>0.0168</td>\n",
       "      <td>0.0832</td>\n",
       "      <td>-13.093</td>\n",
       "      <td>0.5250</td>\n",
       "      <td>0.652</td>\n",
       "      <td>2202</td>\n",
       "      <td>11</td>\n",
       "    </tr>\n",
       "    <tr>\n",
       "      <th>3</th>\n",
       "      <td>1</td>\n",
       "      <td>0</td>\n",
       "      <td>0</td>\n",
       "      <td>0</td>\n",
       "      <td>0</td>\n",
       "      <td>0</td>\n",
       "      <td>0</td>\n",
       "      <td>0</td>\n",
       "      <td>0</td>\n",
       "      <td>5.05</td>\n",
       "      <td>...</td>\n",
       "      <td>0.02220</td>\n",
       "      <td>0.737</td>\n",
       "      <td>0.724</td>\n",
       "      <td>0.9040</td>\n",
       "      <td>0.2470</td>\n",
       "      <td>-11.910</td>\n",
       "      <td>0.0692</td>\n",
       "      <td>0.534</td>\n",
       "      <td>2202</td>\n",
       "      <td>10</td>\n",
       "    </tr>\n",
       "    <tr>\n",
       "      <th>4</th>\n",
       "      <td>1</td>\n",
       "      <td>0</td>\n",
       "      <td>0</td>\n",
       "      <td>0</td>\n",
       "      <td>0</td>\n",
       "      <td>0</td>\n",
       "      <td>0</td>\n",
       "      <td>0</td>\n",
       "      <td>0</td>\n",
       "      <td>5.38</td>\n",
       "      <td>...</td>\n",
       "      <td>0.00103</td>\n",
       "      <td>0.513</td>\n",
       "      <td>0.593</td>\n",
       "      <td>0.8220</td>\n",
       "      <td>0.1290</td>\n",
       "      <td>-12.871</td>\n",
       "      <td>0.2070</td>\n",
       "      <td>0.313</td>\n",
       "      <td>2202</td>\n",
       "      <td>9</td>\n",
       "    </tr>\n",
       "  </tbody>\n",
       "</table>\n",
       "<p>5 rows × 22 columns</p>\n",
       "</div>"
      ],
      "text/plain": [
       "   Electronic  Experimental  Folk/Country  Global  Jazz  Metal  Pop/R&B  \\\n",
       "0           1             0             0       0     0      0        0   \n",
       "1           1             0             0       0     0      0        0   \n",
       "2           1             0             0       0     0      0        0   \n",
       "3           1             0             0       0     0      0        0   \n",
       "4           1             0             0       0     0      0        0   \n",
       "\n",
       "   Rap/Hip-Hop  Rock  Duration (minutes)     ...      Acousticness  \\\n",
       "0            0     0                5.33     ...           0.00213   \n",
       "1            0     0                5.10     ...           0.03920   \n",
       "2            0     0                5.22     ...           0.00376   \n",
       "3            0     0                5.05     ...           0.02220   \n",
       "4            0     0                5.38     ...           0.00103   \n",
       "\n",
       "   Danceability  Energy  Instrumentalness  Liveness  Loudness  Speechiness  \\\n",
       "0         0.912   0.432            0.5330    0.1270   -11.391       0.4070   \n",
       "1         0.439   0.656            0.8970    0.0458   -11.742       0.2950   \n",
       "2         0.674   0.614            0.0168    0.0832   -13.093       0.5250   \n",
       "3         0.737   0.724            0.9040    0.2470   -11.910       0.0692   \n",
       "4         0.513   0.593            0.8220    0.1290   -12.871       0.2070   \n",
       "\n",
       "   Valence  Artist Followers  Popularity  \n",
       "0    0.595              2202          14  \n",
       "1    0.630              2202          12  \n",
       "2    0.652              2202          11  \n",
       "3    0.534              2202          10  \n",
       "4    0.313              2202           9  \n",
       "\n",
       "[5 rows x 22 columns]"
      ]
     },
     "execution_count": 53,
     "metadata": {},
     "output_type": "execute_result"
    }
   ],
   "source": [
    "dataset_v2 = dataset_v2[['Electronic', 'Experimental', 'Folk/Country', 'Global', 'Jazz', 'Metal', 'Pop/R&B', \n",
    "                         'Rap/Hip-Hop', 'Rock', 'Duration (minutes)', 'Tempo', 'Mode','Acousticness', 'Danceability', \n",
    "                         'Energy', 'Instrumentalness', 'Liveness', 'Loudness', 'Speechiness', 'Valence', \n",
    "                         'Artist Followers', 'Popularity']]\n",
    "dataset_v2.head()"
   ]
  },
  {
   "cell_type": "markdown",
   "metadata": {},
   "source": [
    "Save dataset_2 to pickle."
   ]
  },
  {
   "cell_type": "code",
   "execution_count": 54,
   "metadata": {},
   "outputs": [],
   "source": [
    "dataset_v2.to_pickle('../data/dataset_v2.pkl')"
   ]
  },
  {
   "cell_type": "markdown",
   "metadata": {},
   "source": [
    "<h2><a id='more-hiphop'>Post-Analysis Data Additions: Popular Hip-Hop</a></h2>\n",
    "\n",
    "In `EDA & Modeling Workbook (Project V2).ipynb` I determined that the distributiion of song \"Popularity\" was a bit light on the higher end (for hip-hop music since that's all I decided to model)."
   ]
  },
  {
   "cell_type": "code",
   "execution_count": 55,
   "metadata": {},
   "outputs": [
    {
     "data": {
      "text/plain": [
       "<matplotlib.axes._subplots.AxesSubplot at 0x7fdae40f2438>"
      ]
     },
     "execution_count": 55,
     "metadata": {},
     "output_type": "execute_result"
    },
    {
     "data": {
      "image/png": "[encoded data removed]",
      "text/plain": [
       "<Figure size 432x288 with 1 Axes>"
      ]
     },
     "metadata": {
      "needs_background": "light"
     },
     "output_type": "display_data"
    }
   ],
   "source": [
    "df_hiphop = dataset_v2[dataset_v2['Rap/Hip-Hop'] == 1]\n",
    "df_hiphop['Popularity'].hist(bins=20)"
   ]
  },
  {
   "cell_type": "markdown",
   "metadata": {},
   "source": [
    "The \"Rap Caviar\" playlist on Spotify is a curated collection of very popular rap music. Pulling tracks from that playlist should make things more even on the high end. First get track URI's from playlist."
   ]
  },
  {
   "cell_type": "code",
   "execution_count": 56,
   "metadata": {},
   "outputs": [],
   "source": [
    "playlist_uri = 'spotify:playlist:37i9dQZF1DX0XUsuxWHRQd'\n",
    "playlist_tracks = sp.playlist_tracks(playlist_uri)['items']\n",
    "playlist_track_uris = [track['track']['uri'] for track in playlist_tracks]"
   ]
  },
  {
   "cell_type": "markdown",
   "metadata": {},
   "source": [
    "Get track audio features from track URIs."
   ]
  },
  {
   "cell_type": "code",
   "execution_count": 57,
   "metadata": {},
   "outputs": [
    {
     "data": {
      "text/plain": [
       "{'danceability': 0.904,\n",
       " 'energy': 0.723,\n",
       " 'key': 11,\n",
       " 'loudness': -5.224,\n",
       " 'mode': 0,\n",
       " 'speechiness': 0.26,\n",
       " 'acousticness': 0.0631,\n",
       " 'instrumentalness': 0,\n",
       " 'liveness': 0.185,\n",
       " 'valence': 0.835,\n",
       " 'tempo': 145.013,\n",
       " 'type': 'audio_features',\n",
       " 'id': '2MbdDtCv5LUVjYy9RuGTgC',\n",
       " 'uri': 'spotify:track:2MbdDtCv5LUVjYy9RuGTgC',\n",
       " 'track_href': 'https://api.spotify.com/v1/tracks/2MbdDtCv5LUVjYy9RuGTgC',\n",
       " 'analysis_url': 'https://api.spotify.com/v1/audio-analysis/2MbdDtCv5LUVjYy9RuGTgC',\n",
       " 'duration_ms': 227478,\n",
       " 'time_signature': 4}"
      ]
     },
     "execution_count": 57,
     "metadata": {},
     "output_type": "execute_result"
    }
   ],
   "source": [
    "rap_caviar_audio_features = sp.audio_features(tracks=playlist_track_uris)\n",
    "rap_caviar_audio_features[0]"
   ]
  },
  {
   "cell_type": "markdown",
   "metadata": {},
   "source": [
    "Format audio features into dataframe."
   ]
  },
  {
   "cell_type": "code",
   "execution_count": 58,
   "metadata": {},
   "outputs": [
    {
     "data": {
      "text/html": [
       "<div>\n",
       "<style scoped>\n",
       "    .dataframe tbody tr th:only-of-type {\n",
       "        vertical-align: middle;\n",
       "    }\n",
       "\n",
       "    .dataframe tbody tr th {\n",
       "        vertical-align: top;\n",
       "    }\n",
       "\n",
       "    .dataframe thead th {\n",
       "        text-align: right;\n",
       "    }\n",
       "</style>\n",
       "<table border=\"1\" class=\"dataframe\">\n",
       "  <thead>\n",
       "    <tr style=\"text-align: right;\">\n",
       "      <th></th>\n",
       "      <th>Acousticness</th>\n",
       "      <th>Danceability</th>\n",
       "      <th>Duration (ms)</th>\n",
       "      <th>Energy</th>\n",
       "      <th>Instrumentalness</th>\n",
       "      <th>Key</th>\n",
       "      <th>Liveness</th>\n",
       "      <th>Loudness</th>\n",
       "      <th>Mode</th>\n",
       "      <th>Speechiness</th>\n",
       "      <th>Tempo</th>\n",
       "      <th>Time Signature</th>\n",
       "      <th>Track URI</th>\n",
       "      <th>Valence</th>\n",
       "    </tr>\n",
       "  </thead>\n",
       "  <tbody>\n",
       "    <tr>\n",
       "      <th>0</th>\n",
       "      <td>0.0631</td>\n",
       "      <td>0.904</td>\n",
       "      <td>227478</td>\n",
       "      <td>0.723</td>\n",
       "      <td>0.0</td>\n",
       "      <td>11</td>\n",
       "      <td>0.185</td>\n",
       "      <td>-5.224</td>\n",
       "      <td>0</td>\n",
       "      <td>0.2600</td>\n",
       "      <td>145.013</td>\n",
       "      <td>4</td>\n",
       "      <td>spotify:track:2MbdDtCv5LUVjYy9RuGTgC</td>\n",
       "      <td>0.835</td>\n",
       "    </tr>\n",
       "    <tr>\n",
       "      <th>1</th>\n",
       "      <td>0.1140</td>\n",
       "      <td>0.825</td>\n",
       "      <td>197760</td>\n",
       "      <td>0.458</td>\n",
       "      <td>0.0</td>\n",
       "      <td>0</td>\n",
       "      <td>0.102</td>\n",
       "      <td>-7.470</td>\n",
       "      <td>1</td>\n",
       "      <td>0.0577</td>\n",
       "      <td>145.115</td>\n",
       "      <td>4</td>\n",
       "      <td>spotify:track:3nS9a01VvXHQriLqJYwRqG</td>\n",
       "      <td>0.161</td>\n",
       "    </tr>\n",
       "    <tr>\n",
       "      <th>2</th>\n",
       "      <td>0.1140</td>\n",
       "      <td>0.823</td>\n",
       "      <td>190476</td>\n",
       "      <td>0.586</td>\n",
       "      <td>0.0</td>\n",
       "      <td>6</td>\n",
       "      <td>0.193</td>\n",
       "      <td>-6.606</td>\n",
       "      <td>0</td>\n",
       "      <td>0.2000</td>\n",
       "      <td>125.971</td>\n",
       "      <td>4</td>\n",
       "      <td>spotify:track:0PvFJmanyNQMseIFrU708S</td>\n",
       "      <td>0.347</td>\n",
       "    </tr>\n",
       "    <tr>\n",
       "      <th>3</th>\n",
       "      <td>0.0538</td>\n",
       "      <td>0.752</td>\n",
       "      <td>163902</td>\n",
       "      <td>0.673</td>\n",
       "      <td>0.0</td>\n",
       "      <td>10</td>\n",
       "      <td>0.133</td>\n",
       "      <td>-5.792</td>\n",
       "      <td>0</td>\n",
       "      <td>0.1530</td>\n",
       "      <td>164.009</td>\n",
       "      <td>4</td>\n",
       "      <td>spotify:track:2QqJTIlGKRLJC3onkavYEz</td>\n",
       "      <td>0.350</td>\n",
       "    </tr>\n",
       "    <tr>\n",
       "      <th>4</th>\n",
       "      <td>0.1830</td>\n",
       "      <td>0.868</td>\n",
       "      <td>154767</td>\n",
       "      <td>0.550</td>\n",
       "      <td>0.0</td>\n",
       "      <td>6</td>\n",
       "      <td>0.109</td>\n",
       "      <td>-6.417</td>\n",
       "      <td>1</td>\n",
       "      <td>0.2260</td>\n",
       "      <td>117.943</td>\n",
       "      <td>4</td>\n",
       "      <td>spotify:track:3MmCFghNjzZMn3HKqbVizn</td>\n",
       "      <td>0.464</td>\n",
       "    </tr>\n",
       "  </tbody>\n",
       "</table>\n",
       "</div>"
      ],
      "text/plain": [
       "   Acousticness  Danceability  Duration (ms)  Energy  Instrumentalness  Key  \\\n",
       "0        0.0631         0.904         227478   0.723               0.0   11   \n",
       "1        0.1140         0.825         197760   0.458               0.0    0   \n",
       "2        0.1140         0.823         190476   0.586               0.0    6   \n",
       "3        0.0538         0.752         163902   0.673               0.0   10   \n",
       "4        0.1830         0.868         154767   0.550               0.0    6   \n",
       "\n",
       "   Liveness  Loudness  Mode  Speechiness    Tempo  Time Signature  \\\n",
       "0     0.185    -5.224     0       0.2600  145.013               4   \n",
       "1     0.102    -7.470     1       0.0577  145.115               4   \n",
       "2     0.193    -6.606     0       0.2000  125.971               4   \n",
       "3     0.133    -5.792     0       0.1530  164.009               4   \n",
       "4     0.109    -6.417     1       0.2260  117.943               4   \n",
       "\n",
       "                              Track URI  Valence  \n",
       "0  spotify:track:2MbdDtCv5LUVjYy9RuGTgC    0.835  \n",
       "1  spotify:track:3nS9a01VvXHQriLqJYwRqG    0.161  \n",
       "2  spotify:track:0PvFJmanyNQMseIFrU708S    0.347  \n",
       "3  spotify:track:2QqJTIlGKRLJC3onkavYEz    0.350  \n",
       "4  spotify:track:3MmCFghNjzZMn3HKqbVizn    0.464  "
      ]
     },
     "execution_count": 58,
     "metadata": {},
     "output_type": "execute_result"
    }
   ],
   "source": [
    "df_rap_caviar_audio_features = pd.DataFrame([{\n",
    "    'Track URI': track['uri'],\n",
    "    'Duration (ms)': track['duration_ms'],\n",
    "    'Tempo': track['tempo'],\n",
    "    'Key': track['key'],\n",
    "    'Mode': track['mode'],\n",
    "    'Time Signature': track['time_signature'],\n",
    "    'Danceability': track['danceability'],\n",
    "    'Energy': track['energy'],\n",
    "    'Loudness': track['loudness'],\n",
    "    'Speechiness': track['speechiness'],\n",
    "    'Acousticness': track['acousticness'],\n",
    "    'Instrumentalness': track['instrumentalness'],\n",
    "    'Liveness': track['liveness'],\n",
    "    'Valence': track['valence']\n",
    "} for track in rap_caviar_audio_features])\n",
    "df_rap_caviar_audio_features.head()"
   ]
  },
  {
   "cell_type": "markdown",
   "metadata": {},
   "source": [
    "Get track popularity and followers."
   ]
  },
  {
   "cell_type": "code",
   "execution_count": 59,
   "metadata": {},
   "outputs": [
    {
     "data": {
      "text/html": [
       "<div>\n",
       "<style scoped>\n",
       "    .dataframe tbody tr th:only-of-type {\n",
       "        vertical-align: middle;\n",
       "    }\n",
       "\n",
       "    .dataframe tbody tr th {\n",
       "        vertical-align: top;\n",
       "    }\n",
       "\n",
       "    .dataframe thead th {\n",
       "        text-align: right;\n",
       "    }\n",
       "</style>\n",
       "<table border=\"1\" class=\"dataframe\">\n",
       "  <thead>\n",
       "    <tr style=\"text-align: right;\">\n",
       "      <th></th>\n",
       "      <th>Artist Followers</th>\n",
       "      <th>Popularity</th>\n",
       "      <th>Track URI</th>\n",
       "    </tr>\n",
       "  </thead>\n",
       "  <tbody>\n",
       "    <tr>\n",
       "      <th>0</th>\n",
       "      <td>331266</td>\n",
       "      <td>88</td>\n",
       "      <td>spotify:track:2MbdDtCv5LUVjYy9RuGTgC</td>\n",
       "    </tr>\n",
       "    <tr>\n",
       "      <th>1</th>\n",
       "      <td>2213333</td>\n",
       "      <td>85</td>\n",
       "      <td>spotify:track:3nS9a01VvXHQriLqJYwRqG</td>\n",
       "    </tr>\n",
       "    <tr>\n",
       "      <th>2</th>\n",
       "      <td>880451</td>\n",
       "      <td>86</td>\n",
       "      <td>spotify:track:0PvFJmanyNQMseIFrU708S</td>\n",
       "    </tr>\n",
       "    <tr>\n",
       "      <th>3</th>\n",
       "      <td>1578386</td>\n",
       "      <td>86</td>\n",
       "      <td>spotify:track:2QqJTIlGKRLJC3onkavYEz</td>\n",
       "    </tr>\n",
       "    <tr>\n",
       "      <th>4</th>\n",
       "      <td>10549573</td>\n",
       "      <td>81</td>\n",
       "      <td>spotify:track:3MmCFghNjzZMn3HKqbVizn</td>\n",
       "    </tr>\n",
       "  </tbody>\n",
       "</table>\n",
       "</div>"
      ],
      "text/plain": [
       "   Artist Followers  Popularity                             Track URI\n",
       "0            331266          88  spotify:track:2MbdDtCv5LUVjYy9RuGTgC\n",
       "1           2213333          85  spotify:track:3nS9a01VvXHQriLqJYwRqG\n",
       "2            880451          86  spotify:track:0PvFJmanyNQMseIFrU708S\n",
       "3           1578386          86  spotify:track:2QqJTIlGKRLJC3onkavYEz\n",
       "4          10549573          81  spotify:track:3MmCFghNjzZMn3HKqbVizn"
      ]
     },
     "execution_count": 59,
     "metadata": {},
     "output_type": "execute_result"
    }
   ],
   "source": [
    "df_rap_caviar_track_popularity = get_spotify_track_popularity_and_artist_followers(sp, playlist_track_uris)\n",
    "df_rap_caviar_track_popularity.head()"
   ]
  },
  {
   "cell_type": "markdown",
   "metadata": {},
   "source": [
    "Merge dataframes and drop Track URI."
   ]
  },
  {
   "cell_type": "code",
   "execution_count": 60,
   "metadata": {},
   "outputs": [
    {
     "name": "stdout",
     "output_type": "stream",
     "text": [
      "Before\n",
      "(50, 14)\n",
      "After\n",
      "(50, 16)\n"
     ]
    }
   ],
   "source": [
    "print('Before')\n",
    "print(df_rap_caviar_audio_features.shape)\n",
    "dataset_v2_addition = df_rap_caviar_audio_features.merge(df_rap_caviar_track_popularity, on='Track URI')\n",
    "print('After')\n",
    "print(dataset_v2_addition.shape)"
   ]
  },
  {
   "cell_type": "markdown",
   "metadata": {},
   "source": [
    "Drop unecessary columns."
   ]
  },
  {
   "cell_type": "code",
   "execution_count": 61,
   "metadata": {},
   "outputs": [],
   "source": [
    "dataset_v2_addition.drop(['Track URI', 'Time Signature', 'Key'], axis=1, inplace=True)"
   ]
  },
  {
   "cell_type": "markdown",
   "metadata": {},
   "source": [
    "Convert duration to minutes."
   ]
  },
  {
   "cell_type": "code",
   "execution_count": 62,
   "metadata": {},
   "outputs": [],
   "source": [
    "dataset_v2_addition['Duration (minutes)'] = round(dataset_v2_addition['Duration (ms)'].div(1000*60), 2)\n",
    "dataset_v2_addition.drop('Duration (ms)', axis=1, inplace=True)"
   ]
  },
  {
   "cell_type": "markdown",
   "metadata": {},
   "source": [
    "Add genre dummy features."
   ]
  },
  {
   "cell_type": "code",
   "execution_count": 63,
   "metadata": {},
   "outputs": [
    {
     "data": {
      "text/html": [
       "<div>\n",
       "<style scoped>\n",
       "    .dataframe tbody tr th:only-of-type {\n",
       "        vertical-align: middle;\n",
       "    }\n",
       "\n",
       "    .dataframe tbody tr th {\n",
       "        vertical-align: top;\n",
       "    }\n",
       "\n",
       "    .dataframe thead th {\n",
       "        text-align: right;\n",
       "    }\n",
       "</style>\n",
       "<table border=\"1\" class=\"dataframe\">\n",
       "  <thead>\n",
       "    <tr style=\"text-align: right;\">\n",
       "      <th></th>\n",
       "      <th>Acousticness</th>\n",
       "      <th>Danceability</th>\n",
       "      <th>Energy</th>\n",
       "      <th>Instrumentalness</th>\n",
       "      <th>Liveness</th>\n",
       "      <th>Loudness</th>\n",
       "      <th>Mode</th>\n",
       "      <th>Speechiness</th>\n",
       "      <th>Tempo</th>\n",
       "      <th>Valence</th>\n",
       "      <th>...</th>\n",
       "      <th>Duration (minutes)</th>\n",
       "      <th>Rap/Hip-Hop</th>\n",
       "      <th>Electronic</th>\n",
       "      <th>Experimental</th>\n",
       "      <th>Folk/Country</th>\n",
       "      <th>Global</th>\n",
       "      <th>Jazz</th>\n",
       "      <th>Metal</th>\n",
       "      <th>Pop/R&amp;B</th>\n",
       "      <th>Rock</th>\n",
       "    </tr>\n",
       "  </thead>\n",
       "  <tbody>\n",
       "    <tr>\n",
       "      <th>0</th>\n",
       "      <td>0.0631</td>\n",
       "      <td>0.904</td>\n",
       "      <td>0.723</td>\n",
       "      <td>0.0</td>\n",
       "      <td>0.185</td>\n",
       "      <td>-5.224</td>\n",
       "      <td>0</td>\n",
       "      <td>0.2600</td>\n",
       "      <td>145.013</td>\n",
       "      <td>0.835</td>\n",
       "      <td>...</td>\n",
       "      <td>3.79</td>\n",
       "      <td>1</td>\n",
       "      <td>0</td>\n",
       "      <td>0</td>\n",
       "      <td>0</td>\n",
       "      <td>0</td>\n",
       "      <td>0</td>\n",
       "      <td>0</td>\n",
       "      <td>0</td>\n",
       "      <td>0</td>\n",
       "    </tr>\n",
       "    <tr>\n",
       "      <th>1</th>\n",
       "      <td>0.1140</td>\n",
       "      <td>0.825</td>\n",
       "      <td>0.458</td>\n",
       "      <td>0.0</td>\n",
       "      <td>0.102</td>\n",
       "      <td>-7.470</td>\n",
       "      <td>1</td>\n",
       "      <td>0.0577</td>\n",
       "      <td>145.115</td>\n",
       "      <td>0.161</td>\n",
       "      <td>...</td>\n",
       "      <td>3.30</td>\n",
       "      <td>1</td>\n",
       "      <td>0</td>\n",
       "      <td>0</td>\n",
       "      <td>0</td>\n",
       "      <td>0</td>\n",
       "      <td>0</td>\n",
       "      <td>0</td>\n",
       "      <td>0</td>\n",
       "      <td>0</td>\n",
       "    </tr>\n",
       "    <tr>\n",
       "      <th>2</th>\n",
       "      <td>0.1140</td>\n",
       "      <td>0.823</td>\n",
       "      <td>0.586</td>\n",
       "      <td>0.0</td>\n",
       "      <td>0.193</td>\n",
       "      <td>-6.606</td>\n",
       "      <td>0</td>\n",
       "      <td>0.2000</td>\n",
       "      <td>125.971</td>\n",
       "      <td>0.347</td>\n",
       "      <td>...</td>\n",
       "      <td>3.17</td>\n",
       "      <td>1</td>\n",
       "      <td>0</td>\n",
       "      <td>0</td>\n",
       "      <td>0</td>\n",
       "      <td>0</td>\n",
       "      <td>0</td>\n",
       "      <td>0</td>\n",
       "      <td>0</td>\n",
       "      <td>0</td>\n",
       "    </tr>\n",
       "    <tr>\n",
       "      <th>3</th>\n",
       "      <td>0.0538</td>\n",
       "      <td>0.752</td>\n",
       "      <td>0.673</td>\n",
       "      <td>0.0</td>\n",
       "      <td>0.133</td>\n",
       "      <td>-5.792</td>\n",
       "      <td>0</td>\n",
       "      <td>0.1530</td>\n",
       "      <td>164.009</td>\n",
       "      <td>0.350</td>\n",
       "      <td>...</td>\n",
       "      <td>2.73</td>\n",
       "      <td>1</td>\n",
       "      <td>0</td>\n",
       "      <td>0</td>\n",
       "      <td>0</td>\n",
       "      <td>0</td>\n",
       "      <td>0</td>\n",
       "      <td>0</td>\n",
       "      <td>0</td>\n",
       "      <td>0</td>\n",
       "    </tr>\n",
       "    <tr>\n",
       "      <th>4</th>\n",
       "      <td>0.1830</td>\n",
       "      <td>0.868</td>\n",
       "      <td>0.550</td>\n",
       "      <td>0.0</td>\n",
       "      <td>0.109</td>\n",
       "      <td>-6.417</td>\n",
       "      <td>1</td>\n",
       "      <td>0.2260</td>\n",
       "      <td>117.943</td>\n",
       "      <td>0.464</td>\n",
       "      <td>...</td>\n",
       "      <td>2.58</td>\n",
       "      <td>1</td>\n",
       "      <td>0</td>\n",
       "      <td>0</td>\n",
       "      <td>0</td>\n",
       "      <td>0</td>\n",
       "      <td>0</td>\n",
       "      <td>0</td>\n",
       "      <td>0</td>\n",
       "      <td>0</td>\n",
       "    </tr>\n",
       "  </tbody>\n",
       "</table>\n",
       "<p>5 rows × 22 columns</p>\n",
       "</div>"
      ],
      "text/plain": [
       "   Acousticness  Danceability  Energy  Instrumentalness  Liveness  Loudness  \\\n",
       "0        0.0631         0.904   0.723               0.0     0.185    -5.224   \n",
       "1        0.1140         0.825   0.458               0.0     0.102    -7.470   \n",
       "2        0.1140         0.823   0.586               0.0     0.193    -6.606   \n",
       "3        0.0538         0.752   0.673               0.0     0.133    -5.792   \n",
       "4        0.1830         0.868   0.550               0.0     0.109    -6.417   \n",
       "\n",
       "   Mode  Speechiness    Tempo  Valence  ...   Duration (minutes)  Rap/Hip-Hop  \\\n",
       "0     0       0.2600  145.013    0.835  ...                 3.79            1   \n",
       "1     1       0.0577  145.115    0.161  ...                 3.30            1   \n",
       "2     0       0.2000  125.971    0.347  ...                 3.17            1   \n",
       "3     0       0.1530  164.009    0.350  ...                 2.73            1   \n",
       "4     1       0.2260  117.943    0.464  ...                 2.58            1   \n",
       "\n",
       "   Electronic  Experimental  Folk/Country  Global  Jazz  Metal  Pop/R&B  Rock  \n",
       "0           0             0             0       0     0      0        0     0  \n",
       "1           0             0             0       0     0      0        0     0  \n",
       "2           0             0             0       0     0      0        0     0  \n",
       "3           0             0             0       0     0      0        0     0  \n",
       "4           0             0             0       0     0      0        0     0  \n",
       "\n",
       "[5 rows x 22 columns]"
      ]
     },
     "execution_count": 63,
     "metadata": {},
     "output_type": "execute_result"
    }
   ],
   "source": [
    "dataset_v2_addition['Rap/Hip-Hop'] = len(dataset_v2_addition)*[1]\n",
    "non_hip_hop_genres = ['Electronic', 'Experimental', 'Folk/Country', 'Global', 'Jazz', 'Metal', 'Pop/R&B', 'Rock']\n",
    "for genre in non_hip_hop_genres:\n",
    "    dataset_v2_addition[genre] = len(dataset_v2_addition)*[0]\n",
    "    \n",
    "dataset_v2_addition.head()"
   ]
  },
  {
   "cell_type": "markdown",
   "metadata": {},
   "source": [
    "Concatenate data to dataset_v2."
   ]
  },
  {
   "cell_type": "code",
   "execution_count": 64,
   "metadata": {},
   "outputs": [
    {
     "name": "stderr",
     "output_type": "stream",
     "text": [
      "/opt/anaconda3/envs/pitchforkratings/lib/python3.7/site-packages/pandas/core/frame.py:6211: FutureWarning: Sorting because non-concatenation axis is not aligned. A future version\n",
      "of pandas will change to not sort by default.\n",
      "\n",
      "To accept the future behavior, pass 'sort=False'.\n",
      "\n",
      "To retain the current behavior and silence the warning, pass 'sort=True'.\n",
      "\n",
      "  sort=sort)\n"
     ]
    }
   ],
   "source": [
    "dataset_v2 = pd.read_pickle('../data/dataset_v2.pkl')\n",
    "dataset_v2B = dataset_v2.append(dataset_v2_addition)\n",
    "dataset_v2B = dataset_v2B[['Electronic', 'Experimental', 'Folk/Country', 'Global', 'Jazz', 'Metal', 'Pop/R&B', \n",
    "                         'Rap/Hip-Hop', 'Rock', 'Duration (minutes)', 'Tempo', 'Mode','Acousticness', 'Danceability', \n",
    "                         'Energy', 'Instrumentalness', 'Liveness', 'Loudness', 'Speechiness', 'Valence', \n",
    "                         'Artist Followers', 'Popularity']]\n",
    "dataset_v2B.to_pickle('../data/dataset_v2.pkl')"
   ]
  },
  {
   "cell_type": "code",
   "execution_count": 65,
   "metadata": {},
   "outputs": [
    {
     "data": {
      "text/plain": [
       "<matplotlib.axes._subplots.AxesSubplot at 0x7fdb01051ac8>"
      ]
     },
     "execution_count": 65,
     "metadata": {},
     "output_type": "execute_result"
    },
    {
     "data": {
      "image/png": "[encoded data removed]",
      "text/plain": [
       "<Figure size 432x288 with 1 Axes>"
      ]
     },
     "metadata": {
      "needs_background": "light"
     },
     "output_type": "display_data"
    }
   ],
   "source": [
    "dataset_v2B[dataset_v2B['Rap/Hip-Hop'] == 1]['Popularity'].hist()"
   ]
  },
  {
   "cell_type": "code",
   "execution_count": null,
   "metadata": {},
   "outputs": [],
   "source": []
  }
 ],
 "metadata": {
  "kernelspec": {
   "display_name": "Python 3",
   "language": "python",
   "name": "python3"
  },
  "language_info": {
   "codemirror_mode": {
    "name": "ipython",
    "version": 3
   },
   "file_extension": ".py",
   "mimetype": "text/x-python",
   "name": "python",
   "nbconvert_exporter": "python",
   "pygments_lexer": "ipython3",
   "version": "3.7.3"
  }
 },
 "nbformat": 4,
 "nbformat_minor": 4
}
